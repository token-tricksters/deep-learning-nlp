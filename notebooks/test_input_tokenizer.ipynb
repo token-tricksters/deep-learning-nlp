{
 "cells": [
  {
   "cell_type": "code",
   "execution_count": 39,
   "id": "initial_id",
   "metadata": {
    "collapsed": true,
    "ExecuteTime": {
     "end_time": "2023-08-17T22:53:46.158181800Z",
     "start_time": "2023-08-17T22:53:46.090623600Z"
    }
   },
   "outputs": [
    {
     "name": "stdout",
     "output_type": "stream",
     "text": [
      "['IN', 'DT', 'JJ', 'NN', 'NN', 'VBZ', 'IN', 'DT', 'JJ', 'NN', '.', 'NN']\n"
     ]
    },
    {
     "name": "stderr",
     "output_type": "stream",
     "text": [
      "[nltk_data] Downloading package punkt to\n",
      "[nltk_data]     C:\\Users\\Larsk\\AppData\\Roaming\\nltk_data...\n",
      "[nltk_data]   Package punkt is already up-to-date!\n",
      "[nltk_data] Downloading package averaged_perceptron_tagger to\n",
      "[nltk_data]     C:\\Users\\Larsk\\AppData\\Roaming\\nltk_data...\n",
      "[nltk_data]   Package averaged_perceptron_tagger is already up-to-\n",
      "[nltk_data]       date!\n"
     ]
    }
   ],
   "source": [
    "from tokenizer import BertTokenizer\n",
    "import nltk\n",
    "\n",
    "# Load the BERT tokenizer\n",
    "tokenizer = BertTokenizer.from_pretrained('bert-base-uncased', local_files_only=True)\n",
    "\n",
    "# Load the NLTK POS tagger\n",
    "nltk.download('punkt')\n",
    "nltk.download('averaged_perceptron_tagger')\n",
    "\n",
    "# Example sentence\n",
    "sentence = \"The quick brown fox jumps over the lazy dog.\"\n",
    "\n",
    "# Tokenize the sentence using the BERT tokenizer\n",
    "encoding = tokenizer(sentence, return_tensors='pt', padding=True, truncation=True)\n",
    "\n",
    "# Convert input_ids to tokens\n",
    "tokens = tokenizer.convert_ids_to_tokens(encoding['input_ids'][0].tolist())\n",
    "\n",
    "# Convert tokens to strings\n",
    "token_strings = [token if token != '[PAD]' else '' for token in tokens]\n",
    "\n",
    "# Perform POS tagging using NLTK\n",
    "pos_tags = nltk.pos_tag(token_strings)\n",
    "\n",
    "# Create an array of POS tags corresponding to each input token\n",
    "pos_tags_array = [tag for _, tag in pos_tags]\n",
    "\n",
    "print(pos_tags_array)\n"
   ]
  },
  {
   "cell_type": "code",
   "execution_count": 41,
   "outputs": [
    {
     "data": {
      "text/plain": "(torch.Size([1, 12]), 12)"
     },
     "execution_count": 41,
     "metadata": {},
     "output_type": "execute_result"
    }
   ],
   "source": [
    "encoding[\"input_ids\"].shape, len(pos_tags_array)"
   ],
   "metadata": {
    "collapsed": false,
    "ExecuteTime": {
     "end_time": "2023-08-17T22:54:06.802291200Z",
     "start_time": "2023-08-17T22:54:06.774138900Z"
    }
   },
   "id": "e9f3c205782fdeb3"
  },
  {
   "cell_type": "code",
   "execution_count": 8,
   "outputs": [],
   "source": [
    "sentence1 = \"Hello\"\n",
    "sentence2 = \"Hello World\"\n",
    "sentence3 = \"Hello World!\"\n",
    "sentence4 = \"How are you today? Isn't it a nice day?\""
   ],
   "metadata": {
    "collapsed": false,
    "ExecuteTime": {
     "end_time": "2023-08-17T22:01:10.965388900Z",
     "start_time": "2023-08-17T22:01:10.941001300Z"
    }
   },
   "id": "ddca9b3475fcfa6a"
  },
  {
   "cell_type": "code",
   "execution_count": 15,
   "outputs": [],
   "source": [
    "encoding = tokenizer(sentence2, return_tensors='pt', padding=True, truncation=True)"
   ],
   "metadata": {
    "collapsed": false,
    "ExecuteTime": {
     "end_time": "2023-08-17T22:01:55.088314800Z",
     "start_time": "2023-08-17T22:01:55.071865700Z"
    }
   },
   "id": "a19918e6d95af438"
  },
  {
   "cell_type": "code",
   "execution_count": 16,
   "outputs": [
    {
     "data": {
      "text/plain": "{'input_ids': tensor([[ 101, 7592, 2088,  102]]), 'token_type_ids': tensor([[0, 0, 0, 0]]), 'attention_mask': tensor([[1, 1, 1, 1]])}"
     },
     "execution_count": 16,
     "metadata": {},
     "output_type": "execute_result"
    }
   ],
   "source": [
    "encoding"
   ],
   "metadata": {
    "collapsed": false,
    "ExecuteTime": {
     "end_time": "2023-08-17T22:01:56.165616800Z",
     "start_time": "2023-08-17T22:01:56.115074900Z"
    }
   },
   "id": "91f78398adc8f2ff"
  },
  {
   "cell_type": "code",
   "execution_count": 43,
   "outputs": [
    {
     "name": "stderr",
     "output_type": "stream",
     "text": [
      "[nltk_data] Downloading package tagsets to\n",
      "[nltk_data]     C:\\Users\\Larsk\\AppData\\Roaming\\nltk_data...\n",
      "[nltk_data]   Unzipping help\\tagsets.zip.\n"
     ]
    }
   ],
   "source": [
    "nltk.download('tagsets')\n",
    "# Get all the POS tags from NLTK\n",
    "pos_tags_nltk = set([tag for tag, _ in nltk.data.load('help/tagsets/upenn_tagset.pickle').items()])\n",
    "\n",
    "# Create a vocabulary dictionary for POS tags\n",
    "pos_tag_vocab = {tag: index for index, tag in enumerate(pos_tags_nltk)}"
   ],
   "metadata": {
    "collapsed": false,
    "ExecuteTime": {
     "end_time": "2023-08-17T23:19:55.532349900Z",
     "start_time": "2023-08-17T23:19:52.992938200Z"
    }
   },
   "id": "119c2be189a391c6"
  },
  {
   "cell_type": "code",
   "execution_count": 44,
   "outputs": [
    {
     "data": {
      "text/plain": "{'JJR': 0,\n ':': 1,\n 'VBZ': 2,\n 'RBR': 3,\n 'IN': 4,\n 'FW': 5,\n 'LS': 6,\n '--': 7,\n 'WP': 8,\n 'SYM': 9,\n 'NN': 10,\n 'PRP': 11,\n 'RP': 12,\n 'VBN': 13,\n 'VBP': 14,\n '$': 15,\n 'RBS': 16,\n 'VBG': 17,\n 'PRP$': 18,\n 'PDT': 19,\n ')': 20,\n 'UH': 21,\n 'RB': 22,\n 'VB': 23,\n 'EX': 24,\n \"''\": 25,\n '.': 26,\n 'WRB': 27,\n 'WP$': 28,\n ',': 29,\n 'DT': 30,\n 'NNP': 31,\n '``': 32,\n 'POS': 33,\n 'JJS': 34,\n 'WDT': 35,\n 'VBD': 36,\n 'MD': 37,\n 'TO': 38,\n 'NNS': 39,\n 'JJ': 40,\n 'NNPS': 41,\n '(': 42,\n 'CC': 43,\n 'CD': 44}"
     },
     "execution_count": 44,
     "metadata": {},
     "output_type": "execute_result"
    }
   ],
   "source": [
    "pos_tag_vocab"
   ],
   "metadata": {
    "collapsed": false,
    "ExecuteTime": {
     "end_time": "2023-08-17T23:20:18.555647200Z",
     "start_time": "2023-08-17T23:20:18.430177Z"
    }
   },
   "id": "39df242aeb3ea93a"
  },
  {
   "cell_type": "code",
   "execution_count": null,
   "outputs": [
    {
     "name": "stderr",
     "output_type": "stream",
     "text": [
      "[nltk_data] Downloading package punkt to nltk_data...\n",
      "[nltk_data]   Unzipping tokenizers\\punkt.zip.\n",
      "[nltk_data] Downloading package maxent_ne_chunker to nltk_data...\n",
      "[nltk_data]   Unzipping chunkers\\maxent_ne_chunker.zip.\n",
      "[nltk_data] Downloading package words to nltk_data...\n"
     ]
    }
   ],
   "source": [
    "import nltk\n",
    "from nltk import word_tokenize, pos_tag, ne_chunk\n",
    "\n",
    "nltk.download(\"punkt\", download_dir=\"nltk_data\")\n",
    "nltk.download(\"maxent_ne_chunker\", download_dir=\"nltk_data\")\n",
    "nltk.download(\"words\", download_dir=\"nltk_data\")\n",
    "\n",
    "text = \"Apple is a company based in Cupertino test Obama.\"\n",
    "tokens = word_tokenize(text)\n",
    "tagged = pos_tag(tokens)\n",
    "entities = ne_chunk(tagged)\n",
    "\n",
    "for subtree in entities:\n",
    "    if type(subtree) == nltk.Tree:\n",
    "        entity = \" \".join([word for word, tag in subtree.leaves()])\n",
    "        label = subtree.label()\n",
    "        print(entity, label)\n"
   ],
   "metadata": {
    "collapsed": false,
    "is_executing": true,
    "ExecuteTime": {
     "start_time": "2023-08-18T12:27:19.493505400Z"
    }
   },
   "id": "680b7b4c0fe89858"
  },
  {
   "cell_type": "code",
   "execution_count": 42,
   "outputs": [],
   "source": [
    "import spacy\n",
    "ner_model = spacy.load(\"en_core_web_sm\")"
   ],
   "metadata": {
    "collapsed": false,
    "ExecuteTime": {
     "end_time": "2023-08-18T14:54:51.725428700Z",
     "start_time": "2023-08-18T14:54:50.632757800Z"
    }
   },
   "id": "2da272debda129c0"
  },
  {
   "cell_type": "code",
   "execution_count": 66,
   "outputs": [],
   "source": [
    "# Apply spaCy NER tagging\n",
    "doc = ner_model(\"[CLS] ps\")\n",
    "\n",
    "# Extract NER tags\n",
    "text = [tag.text for tag in doc]\n",
    "ner_tags = [tag.tag_ for tag in doc]"
   ],
   "metadata": {
    "collapsed": false,
    "ExecuteTime": {
     "end_time": "2023-08-18T14:57:37.336314700Z",
     "start_time": "2023-08-18T14:57:37.286452Z"
    }
   },
   "id": "85c6bba4a323b52b"
  },
  {
   "cell_type": "code",
   "execution_count": 67,
   "outputs": [
    {
     "data": {
      "text/plain": "(['[', 'CLS', ']', 'ps'], ['XX', 'XX', 'XX', 'XX'])"
     },
     "execution_count": 67,
     "metadata": {},
     "output_type": "execute_result"
    }
   ],
   "source": [
    "text, ner_tags"
   ],
   "metadata": {
    "collapsed": false,
    "ExecuteTime": {
     "end_time": "2023-08-18T14:57:37.785265400Z",
     "start_time": "2023-08-18T14:57:37.760325600Z"
    }
   },
   "id": "e3f0b84f859ac75c"
  },
  {
   "cell_type": "code",
   "execution_count": 17,
   "outputs": [
    {
     "data": {
      "text/plain": "['CARDINAL',\n 'DATE',\n 'EVENT',\n 'FAC',\n 'GPE',\n 'LANGUAGE',\n 'LAW',\n 'LOC',\n 'MONEY',\n 'NORP',\n 'ORDINAL',\n 'ORG',\n 'PERCENT',\n 'PERSON',\n 'PRODUCT',\n 'QUANTITY',\n 'TIME',\n 'WORK_OF_ART']"
     },
     "execution_count": 17,
     "metadata": {},
     "output_type": "execute_result"
    }
   ],
   "source": [
    "[label for label in ner_model.get_pipe(\"ner\").labels]"
   ],
   "metadata": {
    "collapsed": false,
    "ExecuteTime": {
     "end_time": "2023-08-18T13:41:29.502788Z",
     "start_time": "2023-08-18T13:41:29.479872100Z"
    }
   },
   "id": "1aeb58ff50897458"
  },
  {
   "cell_type": "code",
   "execution_count": 34,
   "outputs": [],
   "source": [
    "doc = ner_model(\"How is Obama today?\")\n",
    "\n",
    "pos_tags = [token.tag_ for token in doc]"
   ],
   "metadata": {
    "collapsed": false,
    "ExecuteTime": {
     "end_time": "2023-08-18T13:53:37.537099900Z",
     "start_time": "2023-08-18T13:53:37.505976400Z"
    }
   },
   "id": "edb5e49fe40a06e9"
  },
  {
   "cell_type": "code",
   "execution_count": 35,
   "outputs": [
    {
     "data": {
      "text/plain": "['WRB', 'VBZ', 'NNP', 'NN', '.']"
     },
     "execution_count": 35,
     "metadata": {},
     "output_type": "execute_result"
    }
   ],
   "source": [
    "pos_tags"
   ],
   "metadata": {
    "collapsed": false,
    "ExecuteTime": {
     "end_time": "2023-08-18T13:53:38.339191400Z",
     "start_time": "2023-08-18T13:53:38.306064200Z"
    }
   },
   "id": "989e447048f7abde"
  },
  {
   "cell_type": "code",
   "execution_count": 36,
   "outputs": [
    {
     "data": {
      "text/plain": "('$',\n \"''\",\n ',',\n '-LRB-',\n '-RRB-',\n '.',\n ':',\n 'ADD',\n 'AFX',\n 'CC',\n 'CD',\n 'DT',\n 'EX',\n 'FW',\n 'HYPH',\n 'IN',\n 'JJ',\n 'JJR',\n 'JJS',\n 'LS',\n 'MD',\n 'NFP',\n 'NN',\n 'NNP',\n 'NNPS',\n 'NNS',\n 'PDT',\n 'POS',\n 'PRP',\n 'PRP$',\n 'RB',\n 'RBR',\n 'RBS',\n 'RP',\n 'SYM',\n 'TO',\n 'UH',\n 'VB',\n 'VBD',\n 'VBG',\n 'VBN',\n 'VBP',\n 'VBZ',\n 'WDT',\n 'WP',\n 'WP$',\n 'WRB',\n 'XX',\n '_SP',\n '``')"
     },
     "execution_count": 36,
     "metadata": {},
     "output_type": "execute_result"
    }
   ],
   "source": [
    "ner_model.get_pipe(\"tagger\").labels"
   ],
   "metadata": {
    "collapsed": false,
    "ExecuteTime": {
     "end_time": "2023-08-18T13:53:42.037615700Z",
     "start_time": "2023-08-18T13:53:42.014571700Z"
    }
   },
   "id": "e0b439876c64606"
  },
  {
   "cell_type": "code",
   "execution_count": 37,
   "outputs": [
    {
     "name": "stdout",
     "output_type": "stream",
     "text": [
      "{'Apple': ('PROPN', 'ORG'), 'is': ('AUX', ''), 'looking': ('VERB', ''), 'to': ('PART', ''), 'buy': ('VERB', ''), 'a': ('DET', ''), 'U.K.': ('PROPN', 'GPE'), 'startup': ('NOUN', ''), 'for': ('ADP', ''), '$': ('SYM', 'MONEY'), '1': ('NUM', 'MONEY'), 'billion': ('NUM', 'MONEY')}\n"
     ]
    }
   ],
   "source": [
    "import spacy\n",
    "\n",
    "def extract_pos_ner_tags(sentence):\n",
    "    nlp = spacy.load(\"en_core_web_sm\")\n",
    "    doc = nlp(sentence)\n",
    "    \n",
    "    pos_ner_dict = {}\n",
    "    \n",
    "    for token in doc:\n",
    "        pos_ner_dict[token.text] = (token.pos_, token.ent_type_)\n",
    "    \n",
    "    return pos_ner_dict\n",
    "\n",
    "sentence = \"Apple is looking to buy a U.K. startup for $1 billion\"\n",
    "result = extract_pos_ner_tags(sentence)\n",
    "print(result)"
   ],
   "metadata": {
    "collapsed": false,
    "ExecuteTime": {
     "end_time": "2023-08-18T13:56:35.354820700Z",
     "start_time": "2023-08-18T13:56:34.268396100Z"
    }
   },
   "id": "d3589fbfa0c469c5"
  },
  {
   "cell_type": "code",
   "execution_count": null,
   "outputs": [],
   "source": [],
   "metadata": {
    "collapsed": false
   },
   "id": "c85727b90038532e"
  }
 ],
 "metadata": {
  "kernelspec": {
   "display_name": "Python 3",
   "language": "python",
   "name": "python3"
  },
  "language_info": {
   "codemirror_mode": {
    "name": "ipython",
    "version": 2
   },
   "file_extension": ".py",
   "mimetype": "text/x-python",
   "name": "python",
   "nbconvert_exporter": "python",
   "pygments_lexer": "ipython2",
   "version": "2.7.6"
  }
 },
 "nbformat": 4,
 "nbformat_minor": 5
}
